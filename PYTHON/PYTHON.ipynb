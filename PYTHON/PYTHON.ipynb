{
 "cells": [
  {
   "cell_type": "markdown",
   "metadata": {},
   "source": [
    "## 保存信息"
   ]
  },
  {
   "cell_type": "markdown",
   "metadata": {},
   "source": [
    "### Pickle保存对象\n",
    "* pickle提供了一个简单的持久化功能。可以将**对象**以文件的形式存放在磁盘上。\n",
    "* pickle模块只能在python中使用，python中几乎所有的数据类型（列表，字典，集合，类等）都可以用pickle来序列化，\n",
    "* pickle序列化后的数据，可读性差，人一般无法识别。\n",
    "* pickle只能持久化**对象**\n",
    "* pickle每次存入文件时都会将之前的文件**清空**"
   ]
  },
  {
   "cell_type": "code",
   "execution_count": 2,
   "metadata": {},
   "outputs": [],
   "source": [
    "import pickle\n",
    "class person:\n",
    "    def __init__(self,name,age):\n",
    "        self.name = name\n",
    "        self.age = age\n",
    "        \n",
    "    def show(self):\n",
    "        print(self.name,self.age)\n",
    "        \n",
    "a = person('drc',22)\n",
    "\n",
    "def save(p,name):\n",
    "    with open('obj/'+name+'.pkl','wb') as f:\n",
    "        pickle.dump(p,f,0)\n",
    "        #参数protocol是序列化模式，默认值为0，表示以文本的形式序列化。\n",
    "        #protocol的值还可以是1或2，表示以二进制的形式序列化。\n",
    "    \n",
    "def load(name):\n",
    "    with open('obj/'+name+'.pkl','rb') as f:\n",
    "        return pickle.load(f)\n",
    "\n",
    "save(a,'person')\n",
    "b = load('person')"
   ]
  },
  {
   "cell_type": "markdown",
   "metadata": {},
   "source": [
    "### Pandas保存表"
   ]
  },
  {
   "cell_type": "code",
   "execution_count": 18,
   "metadata": {},
   "outputs": [],
   "source": [
    "import pandas as pd\n",
    "\n",
    "d = [[1,2,4],[1,2,4],[2,4,5]]\n",
    "c = ['id','age','size']\n",
    "\n",
    "a = pd.DataFrame(columns=c,data=d)\n",
    "a.to_csv('pd.csv')"
   ]
  },
  {
   "cell_type": "markdown",
   "metadata": {},
   "source": [
    "### Python内置写入文件到TXT\n",
    "* f.write()不会自动换行，需要手动添加"
   ]
  },
  {
   "cell_type": "code",
   "execution_count": 38,
   "metadata": {},
   "outputs": [],
   "source": [
    "with open('name.txt','w') as f:\n",
    "    for i in range(10):\n",
    "        f.write(str(i))"
   ]
  },
  {
   "cell_type": "code",
   "execution_count": 40,
   "metadata": {},
   "outputs": [
    {
     "name": "stdout",
     "output_type": "stream",
     "text": [
      "0123456789\n"
     ]
    }
   ],
   "source": [
    "with open('name.txt','r',encoding='utf-8') as f :\n",
    "#     content = f.read()  \n",
    "    lines = f.readlines()  #一行一行读\n",
    "    for i in lines:\n",
    "        print(i)"
   ]
  },
  {
   "cell_type": "code",
   "execution_count": null,
   "metadata": {},
   "outputs": [],
   "source": []
  }
 ],
 "metadata": {
  "kernelspec": {
   "display_name": "Python 3",
   "language": "python",
   "name": "python3"
  },
  "language_info": {
   "codemirror_mode": {
    "name": "ipython",
    "version": 3
   },
   "file_extension": ".py",
   "mimetype": "text/x-python",
   "name": "python",
   "nbconvert_exporter": "python",
   "pygments_lexer": "ipython3",
   "version": "3.7.4"
  },
  "toc": {
   "base_numbering": 1,
   "nav_menu": {},
   "number_sections": true,
   "sideBar": true,
   "skip_h1_title": false,
   "title_cell": "Table of Contents",
   "title_sidebar": "Contents",
   "toc_cell": false,
   "toc_position": {},
   "toc_section_display": true,
   "toc_window_display": false
  }
 },
 "nbformat": 4,
 "nbformat_minor": 4
}
